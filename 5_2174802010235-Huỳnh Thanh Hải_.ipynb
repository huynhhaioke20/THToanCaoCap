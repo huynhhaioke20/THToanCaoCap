{
  "nbformat": 4,
  "nbformat_minor": 0,
  "metadata": {
    "colab": {
      "name": "Baitapchuong1.ipynb",
      "provenance": [],
      "authorship_tag": "ABX9TyOISTWMRD2BKyz0UgMqklrN",
      "include_colab_link": true
    },
    "kernelspec": {
      "name": "python3",
      "display_name": "Python 3"
    },
    "language_info": {
      "name": "python"
    }
  },
  "cells": [
    {
      "cell_type": "markdown",
      "metadata": {
        "id": "view-in-github",
        "colab_type": "text"
      },
      "source": [
        "<a href=\"https://colab.research.google.com/github/huynhhaioke20/THToanCaoCap/blob/main/5_2174802010235-Hu%E1%BB%B3nh%20Thanh%20H%E1%BA%A3i_.ipynb\" target=\"_parent\"><img src=\"https://colab.research.google.com/assets/colab-badge.svg\" alt=\"Open In Colab\"/></a>"
      ]
    },
    {
      "cell_type": "markdown",
      "source": [
        "Bài 2 : Đạo hàm"
      ],
      "metadata": {
        "id": "EJN0r5RPaFKi"
      }
    },
    {
      "cell_type": "code",
      "source": [
        "from sympy import Derivative, Symbol\n",
        "x = Symbol ('x')\n",
        "y = (x**2 + 3*x -1 )/ (x +1)\n",
        "Derivative (y,x).doit()"
      ],
      "metadata": {
        "colab": {
          "base_uri": "https://localhost:8080/",
          "height": 61
        },
        "id": "k0HdfxSKaJNJ",
        "outputId": "420229cd-bf6d-4cba-9942-15c9c8acfa64"
      },
      "execution_count": 3,
      "outputs": [
        {
          "output_type": "execute_result",
          "data": {
            "text/plain": [
              "(2*x + 3)/(x + 1) - (x**2 + 3*x - 1)/(x + 1)**2"
            ],
            "text/latex": "$\\displaystyle \\frac{2 x + 3}{x + 1} - \\frac{x^{2} + 3 x - 1}{\\left(x + 1\\right)^{2}}$"
          },
          "metadata": {},
          "execution_count": 3
        }
      ]
    },
    {
      "cell_type": "markdown",
      "source": [
        "Bài 1 : Tích phân "
      ],
      "metadata": {
        "id": "hz79E3dvdVpu"
      }
    },
    {
      "cell_type": "code",
      "source": [
        "from sympy import Integral, Symbol\n",
        "x = Symbol ('x')\n",
        "y = (x**4 + x**3 + 3*x**2 + 2*x - 2 )/ (x**2+x)\n",
        "tp = Integral(y,(x,1,2))\n",
        "tp.doit()\n"
      ],
      "metadata": {
        "id": "uRaurodNc5uE",
        "colab": {
          "base_uri": "https://localhost:8080/",
          "height": 51
        },
        "outputId": "643c40ea-18b9-4029-c4e3-5a0c783ab077"
      },
      "execution_count": 2,
      "outputs": [
        {
          "output_type": "execute_result",
          "data": {
            "text/plain": [
              "-3*log(2) + log(3) + 16/3"
            ],
            "text/latex": "$\\displaystyle - 3 \\log{\\left(2 \\right)} + \\log{\\left(3 \\right)} + \\frac{16}{3}$"
          },
          "metadata": {},
          "execution_count": 2
        }
      ]
    },
    {
      "cell_type": "code",
      "source": [
        "from sympy import Integral, Symbol\n",
        "x = Symbol ('x')\n",
        "y = (2*x-1)/(x+1)\n",
        "tpp = Integral(y,(x,0,1))\n",
        "tpp.doit()"
      ],
      "metadata": {
        "colab": {
          "base_uri": "https://localhost:8080/",
          "height": 38
        },
        "id": "QGQaaI3Ei373",
        "outputId": "58964cb3-7c57-469e-8db3-70238a2b7729"
      },
      "execution_count": 1,
      "outputs": [
        {
          "output_type": "execute_result",
          "data": {
            "text/plain": [
              "2 - 3*log(2)"
            ],
            "text/latex": "$\\displaystyle 2 - 3 \\log{\\left(2 \\right)}$"
          },
          "metadata": {},
          "execution_count": 1
        }
      ]
    },
    {
      "cell_type": "markdown",
      "source": [
        "Bài 3 : Tính giới hạn"
      ],
      "metadata": {
        "id": "A_Un2vw_jCOr"
      }
    },
    {
      "cell_type": "code",
      "source": [
        "import math \n",
        "from sympy import *\n",
        "x = Symbol ('x')\n",
        "y = (1+x+x**2+x**3)/(1+x)\n",
        "print(limit(y,x,0))\n"
      ],
      "metadata": {
        "id": "To151CD2dYSr",
        "colab": {
          "base_uri": "https://localhost:8080/"
        },
        "outputId": "d69c74f9-5bbb-4bee-97ad-ee746a3e40df"
      },
      "execution_count": 11,
      "outputs": [
        {
          "output_type": "stream",
          "name": "stdout",
          "text": [
            "1\n"
          ]
        }
      ]
    },
    {
      "cell_type": "markdown",
      "source": [
        ""
      ],
      "metadata": {
        "id": "h5NW50M_dYj5"
      }
    }
  ]
}