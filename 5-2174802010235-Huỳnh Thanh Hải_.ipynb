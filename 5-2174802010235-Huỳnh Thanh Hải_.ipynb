{
  "nbformat": 4,
  "nbformat_minor": 0,
  "metadata": {
    "colab": {
      "name": "Baitapchuong1.ipynb",
      "provenance": [],
      "authorship_tag": "ABX9TyOqSxqbl5cePEWBGzs6Odpd",
      "include_colab_link": true
    },
    "kernelspec": {
      "name": "python3",
      "display_name": "Python 3"
    },
    "language_info": {
      "name": "python"
    }
  },
  "cells": [
    {
      "cell_type": "markdown",
      "metadata": {
        "id": "view-in-github",
        "colab_type": "text"
      },
      "source": [
        "<a href=\"https://colab.research.google.com/github/huynhhaioke20/THToanCaoCap/blob/main/5-2174802010235-Hu%E1%BB%B3nh%20Thanh%20H%E1%BA%A3i_.ipynb\" target=\"_parent\"><img src=\"https://colab.research.google.com/assets/colab-badge.svg\" alt=\"Open In Colab\"/></a>"
      ]
    },
    {
      "cell_type": "markdown",
      "source": [
        "Bài 2 : Đạo hàm"
      ],
      "metadata": {
        "id": "EJN0r5RPaFKi"
      }
    },
    {
      "cell_type": "code",
      "source": [
        "x = sympy.Symbol('x')\n",
        "y = (2x-1)/(x+2)\n",
        "y1 = y.diff(x)\n",
        "print(y1)"
      ],
      "metadata": {
        "colab": {
          "base_uri": "https://localhost:8080/",
          "height": 130
        },
        "id": "k0HdfxSKaJNJ",
        "outputId": "7e31c143-4050-4cf0-b165-40718ed4f1f6"
      },
      "execution_count": null,
      "outputs": [
        {
          "output_type": "error",
          "ename": "SyntaxError",
          "evalue": "ignored",
          "traceback": [
            "\u001b[0;36m  File \u001b[0;32m\"<ipython-input-5-d26bcf184603>\"\u001b[0;36m, line \u001b[0;32m2\u001b[0m\n\u001b[0;31m    y = (2x-1)/(x+2)\u001b[0m\n\u001b[0m          ^\u001b[0m\n\u001b[0;31mSyntaxError\u001b[0m\u001b[0;31m:\u001b[0m invalid syntax\n"
          ]
        }
      ]
    },
    {
      "cell_type": "code",
      "source": [
        "x = sympy.Symbol ('X')\n",
        "y = sympy.sin(2x) + sympy.cos(x)\n",
        "y1 = y.diff(x)\n",
        "y1 = sympy.lambdify(x,y1)\n",
        "print (y1,2)"
      ],
      "metadata": {
        "colab": {
          "base_uri": "https://localhost:8080/",
          "height": 130
        },
        "id": "m4SdldWjb4V5",
        "outputId": "a67938cf-71cc-4378-b5c9-2b4659225a6e"
      },
      "execution_count": null,
      "outputs": [
        {
          "output_type": "error",
          "ename": "SyntaxError",
          "evalue": "ignored",
          "traceback": [
            "\u001b[0;36m  File \u001b[0;32m\"<ipython-input-4-c9bf64a31b73>\"\u001b[0;36m, line \u001b[0;32m2\u001b[0m\n\u001b[0;31m    y = sympy.sin(2x) + sympy.cos(x)\u001b[0m\n\u001b[0m                   ^\u001b[0m\n\u001b[0;31mSyntaxError\u001b[0m\u001b[0;31m:\u001b[0m invalid syntax\n"
          ]
        }
      ]
    },
    {
      "cell_type": "markdown",
      "source": [
        "Bài 1 : Tích phân "
      ],
      "metadata": {
        "id": "hz79E3dvdVpu"
      }
    },
    {
      "cell_type": "code",
      "source": [
        "import scipy.integrate\n",
        "# import numpy as np\n",
        "# f=lambda x:(2x-1)/(x+1)\n",
        "# i,e=scipy.integrate.quad(f,-1,4)\n",
        "# print(i)\n"
      ],
      "metadata": {
        "id": "uRaurodNc5uE"
      },
      "execution_count": null,
      "outputs": []
    },
    {
      "cell_type": "code",
      "source": [
        ""
      ],
      "metadata": {
        "id": "To151CD2dYSr"
      },
      "execution_count": null,
      "outputs": []
    },
    {
      "cell_type": "markdown",
      "source": [
        ""
      ],
      "metadata": {
        "id": "h5NW50M_dYj5"
      }
    }
  ]
}